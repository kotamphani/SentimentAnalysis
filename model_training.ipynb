{
 "cells": [
  {
   "cell_type": "code",
   "execution_count": null,
   "metadata": {},
   "outputs": [],
   "source": [
    "from utils import load_tweets, process_tweet\n",
    "import numpy as np\n",
    "import json\n",
    "import pandas as pd\n",
    "import torch\n",
    "import torch.nn as nn\n",
    "import torch.nn.functional as F\n",
    "import torch.optim as optim\n",
    "from sklearn.metrics import confusion_matrix, ConfusionMatrixDisplay\n",
    "from sklearn.metrics import classification_report\n",
    "import matplotlib.pyplot as plt"
   ]
  },
  {
   "cell_type": "code",
   "execution_count": 2,
   "metadata": {},
   "outputs": [],
   "source": [
    "positive_tweets, negative_tweets = load_tweets()"
   ]
  },
  {
   "cell_type": "code",
   "execution_count": 3,
   "metadata": {},
   "outputs": [
    {
     "name": "stdout",
     "output_type": "stream",
     "text": [
      "8000 (8000,) 2000 (2000,)\n"
     ]
    }
   ],
   "source": [
    "X_train = positive_tweets[:4000] + negative_tweets[:4000]\n",
    "Y_train = np.append(np.ones((4000, 1)), np.zeros((4000,1)))\n",
    "\n",
    "X_val = positive_tweets[4000:] + negative_tweets[4000:]\n",
    "Y_val = np.append(np.ones((1000, 1)), np.zeros((1000,1)))\n",
    "print(len(X_train), Y_train.shape, len(X_val), Y_val.shape)"
   ]
  },
  {
   "cell_type": "code",
   "execution_count": 4,
   "metadata": {},
   "outputs": [
    {
     "name": "stdout",
     "output_type": "stream",
     "text": [
      "Vocabulary size =  9087\n",
      "max tweet length =  51\n"
     ]
    }
   ],
   "source": [
    "vocabulary = {'_pad_': 0, '_unk_': 1}\n",
    "max_length = 0\n",
    "\n",
    "for tweet in X_train:\n",
    "    processed_tweet = process_tweet(tweet)\n",
    "    max_length = max(max_length, len(processed_tweet))\n",
    "    for word in processed_tweet:\n",
    "        if word not in vocabulary:\n",
    "            vocabulary[word] = len(vocabulary)\n",
    "\n",
    "print('Vocabulary size = ', len(vocabulary))\n",
    "print('max tweet length = ', max_length)\n"
   ]
  },
  {
   "cell_type": "code",
   "execution_count": 5,
   "metadata": {},
   "outputs": [],
   "source": [
    "with open('vocabulary.json', 'w') as json_file:\n",
    "    json.dump(vocabulary, json_file)"
   ]
  },
  {
   "cell_type": "code",
   "execution_count": 6,
   "metadata": {},
   "outputs": [],
   "source": [
    "def tweet_to_tensor(X):\n",
    "    X_final = []\n",
    "    max_length = 51\n",
    "    for tweet in X:\n",
    "        processed_tweet = process_tweet(tweet)\n",
    "        processed_tensor = []\n",
    "        \n",
    "        for word in processed_tweet:\n",
    "            if word in vocabulary:\n",
    "                processed_tensor.append(vocabulary[word])\n",
    "            else:\n",
    "                processed_tensor.append(vocabulary['_unk_'])\n",
    "        \n",
    "        padding_length = max_length - len(processed_tensor)\n",
    "        processed_tensor = processed_tensor + [0]*padding_length\n",
    "        X_final.append(processed_tensor)\n",
    "    \n",
    "    X_final = torch.tensor(X_final)\n",
    "    \n",
    "    return X_final\n",
    "        "
   ]
  },
  {
   "cell_type": "code",
   "execution_count": 7,
   "metadata": {},
   "outputs": [
    {
     "name": "stdout",
     "output_type": "stream",
     "text": [
      "X_train shape =  torch.Size([8000, 51]) , Y_train shape =  torch.Size([8000, 1])\n",
      "X_val shape =  torch.Size([2000, 51]) , Y_val shape =  torch.Size([2000, 1])\n"
     ]
    }
   ],
   "source": [
    "X_train = tweet_to_tensor(X_train)\n",
    "Y_train = torch.tensor(Y_train)\n",
    "Y_train = Y_train.view(X_train.shape[0], -1)\n",
    "\n",
    "\n",
    "X_val = tweet_to_tensor(X_val)\n",
    "Y_val = torch.tensor(Y_val)\n",
    "Y_val = Y_val.view(X_val.shape[0], -1)\n",
    "\n",
    "print('X_train shape = ', X_train.shape, ', Y_train shape = ', Y_train.shape)\n",
    "print('X_val shape = ', X_val.shape, ', Y_val shape = ', Y_val.shape)"
   ]
  },
  {
   "cell_type": "code",
   "execution_count": 46,
   "metadata": {},
   "outputs": [],
   "source": [
    "# pytorch code\n",
    "\n",
    "class SAM(nn.Module):\n",
    "    def __init__(self, vocab_dimension, n_hidden, vocab_length):\n",
    "        super().__init__()\n",
    "        \n",
    "        self.embedding = nn.Embedding(vocab_length, vocab_dimension)\n",
    "        self.layer1 = nn.Linear(vocab_dimension, n_hidden)\n",
    "        self.layer2 = nn.Linear(n_hidden, 1)\n",
    "    \n",
    "    def forward(self, x):\n",
    "        x = self.embedding(x)\n",
    "        x = torch.mean(x, dim=1)\n",
    "        x = torch.relu(self.layer1(x))\n",
    "        logits = self.layer2(x)\n",
    "        \n",
    "        return logits"
   ]
  },
  {
   "cell_type": "code",
   "execution_count": 773,
   "metadata": {},
   "outputs": [
    {
     "name": "stdout",
     "output_type": "stream",
     "text": [
      "SAM(\n",
      "  (embedding): Embedding(9087, 10)\n",
      "  (layer1): Linear(in_features=10, out_features=5, bias=True)\n",
      "  (layer2): Linear(in_features=5, out_features=1, bias=True)\n",
      ")\n"
     ]
    }
   ],
   "source": [
    "input_size = X_train.shape[1]\n",
    "vocab_length = len(vocabulary)\n",
    "vocab_dimension = 10\n",
    "n_hidden = 5\n",
    "\n",
    "model = SAM(vocab_dimension, n_hidden, vocab_length)\n",
    "print(model)"
   ]
  },
  {
   "cell_type": "code",
   "execution_count": 774,
   "metadata": {},
   "outputs": [],
   "source": [
    "def model_train(model, X_train, Y_train):\n",
    "    \n",
    "    optimizer = optim.Adam(model.parameters(), lr = 0.01)\n",
    "    \n",
    "    iterations = 40001\n",
    "    batch_size = 32\n",
    "    model.train()\n",
    "    for iteration in range(iterations):    \n",
    "        ix = torch.randint(0, X_train.shape[0], (batch_size,))\n",
    "        X = X_train[ix]\n",
    "        \n",
    "        logits =model.forward(X)\n",
    "        loss = F.binary_cross_entropy_with_logits(logits, Y_train[ix].float())\n",
    "        \n",
    "        optimizer.zero_grad()\n",
    "        loss.backward()  # Backpropagation\n",
    "        optimizer.step()  # Update weights\n",
    "        \n",
    "        \n",
    "        if iteration % 10000 == 0:\n",
    "            print(f'loss at iteration {iteration} = {loss.item()}')\n",
    "    \n",
    "    return loss\n",
    "    "
   ]
  },
  {
   "cell_type": "code",
   "execution_count": 775,
   "metadata": {},
   "outputs": [
    {
     "name": "stdout",
     "output_type": "stream",
     "text": [
      "loss at iteration 0 = 0.6975799798965454\n",
      "loss at iteration 10000 = 1.7750560800777748e-05\n",
      "loss at iteration 20000 = 1.9792025341303088e-05\n",
      "loss at iteration 30000 = 7.55898654460907e-05\n",
      "loss at iteration 40000 = 0.0\n"
     ]
    }
   ],
   "source": [
    "loss= model_train(model, X_train, Y_train)"
   ]
  },
  {
   "cell_type": "code",
   "execution_count": 776,
   "metadata": {},
   "outputs": [
    {
     "name": "stdout",
     "output_type": "stream",
     "text": [
      "              precision    recall  f1-score   support\n",
      "\n",
      "         0.0       1.00      1.00      1.00      4000\n",
      "         1.0       1.00      1.00      1.00      4000\n",
      "\n",
      "    accuracy                           1.00      8000\n",
      "   macro avg       1.00      1.00      1.00      8000\n",
      "weighted avg       1.00      1.00      1.00      8000\n",
      "\n"
     ]
    },
    {
     "data": {
      "image/png": "[encoded data removed]",
      "text/plain": [
       "<Figure size 640x480 with 2 Axes>"
      ]
     },
     "metadata": {},
     "output_type": "display_data"
    },
    {
     "name": "stdout",
     "output_type": "stream",
     "text": [
      "train loss = 0.0010158602487418031, train accuracy = 99.9749984741211%\n"
     ]
    }
   ],
   "source": [
    "@torch.no_grad()\n",
    "\n",
    "def evaluate(split):\n",
    "    x, y = {'train': (X_train,Y_train),\n",
    "            'val': (X_val, Y_val)}[split]\n",
    "    \n",
    "    \n",
    "    logits = model.forward(x)\n",
    "    loss = F.binary_cross_entropy_with_logits(logits, y)\n",
    "    preds = (torch.sigmoid(logits) > 0.5).float()\n",
    "    accuracy = (preds == y).float().mean()*100\n",
    "    \n",
    "    print(classification_report(y, preds))\n",
    "    cm = confusion_matrix(y, preds)\n",
    "    disp = ConfusionMatrixDisplay(confusion_matrix=cm)\n",
    "    disp.plot()\n",
    "    plt.show()\n",
    "    \n",
    "    print(f'{split} loss = {loss}, {split} accuracy = {accuracy}%')\n",
    "\n",
    "evaluate('train')\n"
   ]
  },
  {
   "cell_type": "code",
   "execution_count": 777,
   "metadata": {},
   "outputs": [
    {
     "name": "stdout",
     "output_type": "stream",
     "text": [
      "              precision    recall  f1-score   support\n",
      "\n",
      "         0.0       0.99      0.99      0.99      1000\n",
      "         1.0       0.99      0.99      0.99      1000\n",
      "\n",
      "    accuracy                           0.99      2000\n",
      "   macro avg       0.99      0.99      0.99      2000\n",
      "weighted avg       0.99      0.99      0.99      2000\n",
      "\n"
     ]
    },
    {
     "data": {
      "image/png": "[encoded data removed]",
      "text/plain": [
       "<Figure size 640x480 with 2 Axes>"
      ]
     },
     "metadata": {},
     "output_type": "display_data"
    },
    {
     "name": "stdout",
     "output_type": "stream",
     "text": [
      "val loss = 0.04253823671879531, val accuracy = 99.19999694824219%\n"
     ]
    }
   ],
   "source": [
    "evaluate('val')"
   ]
  },
  {
   "cell_type": "code",
   "execution_count": 801,
   "metadata": {},
   "outputs": [
    {
     "name": "stdout",
     "output_type": "stream",
     "text": [
      "Negative :(\n"
     ]
    }
   ],
   "source": [
    "model.eval()\n",
    "test_sentence = \" I had a terrible day today and bad things happened\"\n",
    "tensor = tweet_to_tensor([test_sentence])\n",
    "with torch.no_grad():\n",
    "    logits = model(tensor)\n",
    "    prediction = (torch.sigmoid(logits) > 0.5).int().squeeze()\n",
    "    if prediction.item() == 1:\n",
    "        print('Positive :)')\n",
    "    else:\n",
    "        print('Negative :(')"
   ]
  },
  {
   "cell_type": "code",
   "execution_count": 802,
   "metadata": {},
   "outputs": [],
   "source": [
    "torch.save(model, 'sentiment_model_full.pth')"
   ]
  },
  {
   "cell_type": "code",
   "execution_count": 779,
   "metadata": {},
   "outputs": [],
   "source": [
    "embeddings = list(model.parameters())[0]"
   ]
  },
  {
   "cell_type": "code",
   "execution_count": 780,
   "metadata": {},
   "outputs": [
    {
     "data": {
      "text/plain": [
       "torch.Size([9087, 10])"
      ]
     },
     "execution_count": 780,
     "metadata": {},
     "output_type": "execute_result"
    }
   ],
   "source": [
    "embeddings.shape"
   ]
  },
  {
   "cell_type": "code",
   "execution_count": 781,
   "metadata": {},
   "outputs": [],
   "source": [
    "from sklearn.decomposition import PCA #Import PCA from scikit-learn\n",
    "pca = PCA(n_components=2) #PCA with two dimensions\n",
    "\n",
    "with torch.no_grad():\n",
    "    emb_2dim = pca.fit_transform(embeddings) #Dimensionality reduction of the word embeddings"
   ]
  },
  {
   "cell_type": "code",
   "execution_count": 798,
   "metadata": {},
   "outputs": [
    {
     "data": {
      "image/png": "[encoded data removed]",
      "text/plain": [
       "<Figure size 640x480 with 1 Axes>"
      ]
     },
     "metadata": {},
     "output_type": "display_data"
    }
   ],
   "source": [
    "%matplotlib inline\n",
    "import matplotlib.pyplot as plt\n",
    "\n",
    "#Selection of negative and positive words\n",
    "neg_words = ['worst', 'bad', 'hurt', 'sad', 'hate']\n",
    "pos_words = ['best', 'good', 'nice', 'better', 'love']\n",
    "\n",
    "#Index of each selected word\n",
    "neg_n = [vocabulary[w] for w in neg_words]\n",
    "pos_n = [vocabulary[w] for w in pos_words]\n",
    "\n",
    "plt.figure()\n",
    "\n",
    "#Scatter plot for negative words\n",
    "plt.scatter(emb_2dim[neg_n][:,0],emb_2dim[neg_n][:,1], color = 'r')\n",
    "for i, txt in enumerate(neg_words): \n",
    "    plt.annotate(txt, (emb_2dim[neg_n][i,0],emb_2dim[neg_n][i,1]))\n",
    "\n",
    "#Scatter plot for positive words\n",
    "plt.scatter(emb_2dim[pos_n][:,0],emb_2dim[pos_n][:,1], color = 'g')\n",
    "for i, txt in enumerate(pos_words): \n",
    "    plt.annotate(txt,(emb_2dim[pos_n][i,0],emb_2dim[pos_n][i,1]))\n",
    "\n",
    "plt.title('Word embeddings in 2d')\n",
    "\n",
    "plt.show()"
   ]
  },
  {
   "cell_type": "code",
   "execution_count": null,
   "metadata": {},
   "outputs": [],
   "source": []
  }
 ],
 "metadata": {
  "kernelspec": {
   "display_name": "datascience",
   "language": "python",
   "name": "python3"
  },
  "language_info": {
   "codemirror_mode": {
    "name": "ipython",
    "version": 3
   },
   "file_extension": ".py",
   "mimetype": "text/x-python",
   "name": "python",
   "nbconvert_exporter": "python",
   "pygments_lexer": "ipython3",
   "version": "3.10.10"
  }
 },
 "nbformat": 4,
 "nbformat_minor": 2
}
