{
 "cells": [
  {
   "cell_type": "code",
   "execution_count": null,
   "metadata": {},
   "outputs": [],
   "source": [
    "import torch\n",
    "import json\n",
    "from utils import SAM, process_tweet\n"
   ]
  },
  {
   "cell_type": "code",
   "execution_count": 4,
   "metadata": {},
   "outputs": [],
   "source": [
    "with open('vocabulary.json', 'r') as json_file:\n",
    "    vocabulary = json.load(json_file)\n",
    "model = torch.load('models/sentiment_model_full.pth')"
   ]
  },
  {
   "cell_type": "code",
   "execution_count": 5,
   "metadata": {},
   "outputs": [],
   "source": [
    "def tweet_to_tensor(X):\n",
    "    X_final = []\n",
    "    max_length = 51\n",
    "    for tweet in X:\n",
    "        processed_tweet = process_tweet(tweet)\n",
    "        processed_tensor = []\n",
    "        \n",
    "        for word in processed_tweet:\n",
    "            if word in vocabulary:\n",
    "                processed_tensor.append(vocabulary[word])\n",
    "            else:\n",
    "                processed_tensor.append(vocabulary['_unk_'])\n",
    "        \n",
    "        padding_length = max_length - len(processed_tensor)\n",
    "        processed_tensor = processed_tensor + [0]*padding_length\n",
    "        X_final.append(processed_tensor)\n",
    "    \n",
    "    X_final = torch.tensor(X_final)\n",
    "    \n",
    "    return X_final\n",
    "        "
   ]
  },
  {
   "cell_type": "code",
   "execution_count": 6,
   "metadata": {},
   "outputs": [
    {
     "name": "stdout",
     "output_type": "stream",
     "text": [
      "Negative :(\n"
     ]
    }
   ],
   "source": [
    "model.eval()\n",
    "test_sentence = \" I had a terrible day today and bad things happened\"\n",
    "tensor = tweet_to_tensor([test_sentence])\n",
    "with torch.no_grad():\n",
    "    logits = model(tensor)\n",
    "    prediction = (torch.sigmoid(logits) > 0.5).int().squeeze()\n",
    "    if prediction.item() == 1:\n",
    "        print('Positive :)')\n",
    "    else:\n",
    "        print('Negative :(')"
   ]
  },
  {
   "cell_type": "code",
   "execution_count": null,
   "metadata": {},
   "outputs": [],
   "source": []
  }
 ],
 "metadata": {
  "kernelspec": {
   "display_name": "datascience",
   "language": "python",
   "name": "python3"
  },
  "language_info": {
   "codemirror_mode": {
    "name": "ipython",
    "version": 3
   },
   "file_extension": ".py",
   "mimetype": "text/x-python",
   "name": "python",
   "nbconvert_exporter": "python",
   "pygments_lexer": "ipython3",
   "version": "3.10.10"
  }
 },
 "nbformat": 4,
 "nbformat_minor": 2
}
